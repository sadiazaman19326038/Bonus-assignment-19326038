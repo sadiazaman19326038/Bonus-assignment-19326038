{
  "nbformat": 4,
  "nbformat_minor": 0,
  "metadata": {
    "colab": {
      "provenance": []
    },
    "kernelspec": {
      "name": "python3",
      "display_name": "Python 3"
    },
    "language_info": {
      "name": "python"
    }
  },
  "cells": [
    {
      "cell_type": "code",
      "execution_count": 1,
      "metadata": {
        "colab": {
          "base_uri": "https://localhost:8080/"
        },
        "id": "WeKDlx_Yknrb",
        "outputId": "29a2ff96-3a40-4478-c325-ea2c16fa66a1"
      },
      "outputs": [
        {
          "output_type": "stream",
          "name": "stdout",
          "text": [
            "Enter promoter sequence: TAATA\n",
            "Gene not found\n"
          ]
        }
      ],
      "source": [
        "# Sadia Zaman Mukti\n",
        "# ID: 19326038\n",
        "\n",
        "def find_gene(sequence, promoter, max_distance=30, min_gene_length=50):\n",
        "    promoter_index = sequence.find(promoter)\n",
        "    if promoter_index != -1:\n",
        "        for i in range(promoter_index, promoter_index + max_distance + 1):\n",
        "            if sequence[i:i+3] == 'ATG':\n",
        "                gene_sequence = sequence[i:]\n",
        "                stop_codons = ['TAA', 'TAG', 'TGA']\n",
        "                for j in range(3, len(gene_sequence), 3):\n",
        "                    codon = gene_sequence[j:j+3]\n",
        "                    if codon in stop_codons:\n",
        "                        gene_length = j // 3\n",
        "                        if gene_length >= min_gene_length:\n",
        "                            return True\n",
        "                        else:\n",
        "                            return False\n",
        "                return False\n",
        "    return False\n",
        "\n",
        "sequence_string = \"\"\"\n",
        "GAAATGGGCGACCTGGCGCAGAGCGTTTCACATATGCAACGCTCTTTGACTGACACCGTCACTCATGTCC\n",
        "GCGAAGGTTCAGATGCCATCTATGCCGGTACCCGTGAAATTGCGGCGGGCAACACCGATCTTTCCTCCCG\n",
        "TACTGAACAGCAGGCATCCGCGCTGGAAGAAACTGCCGCCAGCATGGAGCAGCTCACCGCGACAGTGAAG\n",
        "CAAAACGCCGATAACGCCCGCCAGGCCTCGCAACTGGCGCAAAGTGCCTCCGACACCGCCCAGCACGGCG\n",
        "GCAAAGTGGTGGATGGCGTAGTGAAAACGATGCATGAGATCGCCGATAGTTCGAAGAAAATTGCCGACAT\n",
        "TATCAGCGTTATCGACGGTATTGCCTTCCAGACTAATATCCTCGCGCTGAATGCCGCGGTTGAAGCCGCG\n",
        "CGTGCGGGTGAACAGGGCCGTGGTTTTGCCGTGGTGGCGGGTGAAGTGCGTAATCTTGCCAGTCGCAGCG\n",
        "CCCAGGCGGCAAAAGAGATCAAAGCCCTCATTGAAGACTCCGTCGCACGCGTTGATACCGGTTCGGTGCT\n",
        "GGTCGAAAGCGCCGGGGAAACAATGAACAATATCGTCAATGCTGTCACTCGCGTGACTGACATTATGGGC\n",
        "GAGATTGCATCGGCATCGGATGAACAGAGCCGTGGCATCGATCAAGTCGCATTGGCGGTTTCGGAAATGG\n",
        "ATCGCGTCACGCAACAGAACGCATCGCTGGTGCAGGAATCAGCTGCCGCCGCCGCTGCGCTGGAAGAACA\n",
        "GGCGAGTCGTTTAACGCAAGCGGTTTCCGCGTTCCGTCTGGCAGCCAGCCCACTCACCAATAAACCGCAA\n",
        "ACACCATCCCGTCCTGCCAGTGAGCAACCACCGGCACAGCCACGACTGCGAATTGCTGAACAAGATCCAA\n",
        "ACTGGGAAACATTTTGA\n",
        "\"\"\"\n",
        "\n",
        "promoter = input(\"Enter promoter sequence: \")\n",
        "if find_gene(sequence_string, promoter):\n",
        "    print(\"Gene found\")\n",
        "else:\n",
        "    print(\"Gene not found\")"
      ]
    }
  ]
}